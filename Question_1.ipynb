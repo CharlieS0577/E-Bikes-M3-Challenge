{
 "cells": [
  {
   "cell_type": "code",
   "execution_count": 170,
   "id": "c4243e2c",
   "metadata": {},
   "outputs": [],
   "source": [
    "import pandas as pd\n",
    "import seaborn as sns\n",
    "import matplotlib.pyplot as plt\n",
    "import numpy as np\n",
    "from numpy import log\n",
    "from sklearn.linear_model import LinearRegression\n",
    "from sklearn.model_selection import train_test_split"
   ]
  },
  {
   "cell_type": "code",
   "execution_count": 52,
   "id": "e6ded248",
   "metadata": {},
   "outputs": [],
   "source": [
    "df1 = pd.read_excel(\"TCP23_data.xlsx\")"
   ]
  },
  {
   "cell_type": "code",
   "execution_count": 53,
   "id": "d7b0887f",
   "metadata": {},
   "outputs": [],
   "source": [
    "df1 = df1.iloc[6:23,0:7]"
   ]
  },
  {
   "cell_type": "code",
   "execution_count": 54,
   "id": "9674f275",
   "metadata": {},
   "outputs": [
    {
     "data": {
      "text/html": [
       "<div>\n",
       "<style scoped>\n",
       "    .dataframe tbody tr th:only-of-type {\n",
       "        vertical-align: middle;\n",
       "    }\n",
       "\n",
       "    .dataframe tbody tr th {\n",
       "        vertical-align: top;\n",
       "    }\n",
       "\n",
       "    .dataframe thead th {\n",
       "        text-align: right;\n",
       "    }\n",
       "</style>\n",
       "<table border=\"1\" class=\"dataframe\">\n",
       "  <thead>\n",
       "    <tr style=\"text-align: right;\">\n",
       "      <th></th>\n",
       "      <th>E-bike Sales Data Across the World</th>\n",
       "      <th>Unnamed: 1</th>\n",
       "      <th>Unnamed: 2</th>\n",
       "      <th>Unnamed: 3</th>\n",
       "      <th>Unnamed: 4</th>\n",
       "      <th>Unnamed: 5</th>\n",
       "      <th>Unnamed: 6</th>\n",
       "    </tr>\n",
       "  </thead>\n",
       "  <tbody>\n",
       "    <tr>\n",
       "      <th>6</th>\n",
       "      <td>2006</td>\n",
       "      <td>--</td>\n",
       "      <td>98</td>\n",
       "      <td>--</td>\n",
       "      <td>--</td>\n",
       "      <td>--</td>\n",
       "      <td>--</td>\n",
       "    </tr>\n",
       "    <tr>\n",
       "      <th>7</th>\n",
       "      <td>2007</td>\n",
       "      <td>--</td>\n",
       "      <td>173</td>\n",
       "      <td>--</td>\n",
       "      <td>--</td>\n",
       "      <td>--</td>\n",
       "      <td>--</td>\n",
       "    </tr>\n",
       "    <tr>\n",
       "      <th>8</th>\n",
       "      <td>2008</td>\n",
       "      <td>--</td>\n",
       "      <td>279</td>\n",
       "      <td>15</td>\n",
       "      <td>--</td>\n",
       "      <td>--</td>\n",
       "      <td>--</td>\n",
       "    </tr>\n",
       "    <tr>\n",
       "      <th>9</th>\n",
       "      <td>2009</td>\n",
       "      <td>--</td>\n",
       "      <td>422</td>\n",
       "      <td>24</td>\n",
       "      <td>--</td>\n",
       "      <td>--</td>\n",
       "      <td>--</td>\n",
       "    </tr>\n",
       "    <tr>\n",
       "      <th>10</th>\n",
       "      <td>2010</td>\n",
       "      <td>--</td>\n",
       "      <td>588</td>\n",
       "      <td>38</td>\n",
       "      <td>--</td>\n",
       "      <td>--</td>\n",
       "      <td>--</td>\n",
       "    </tr>\n",
       "    <tr>\n",
       "      <th>11</th>\n",
       "      <td>2011</td>\n",
       "      <td>--</td>\n",
       "      <td>716</td>\n",
       "      <td>37</td>\n",
       "      <td>--</td>\n",
       "      <td>--</td>\n",
       "      <td>409</td>\n",
       "    </tr>\n",
       "    <tr>\n",
       "      <th>12</th>\n",
       "      <td>2012</td>\n",
       "      <td>--</td>\n",
       "      <td>854</td>\n",
       "      <td>46</td>\n",
       "      <td>34500</td>\n",
       "      <td>--</td>\n",
       "      <td>392</td>\n",
       "    </tr>\n",
       "    <tr>\n",
       "      <th>13</th>\n",
       "      <td>2013</td>\n",
       "      <td>--</td>\n",
       "      <td>907</td>\n",
       "      <td>57</td>\n",
       "      <td>36000</td>\n",
       "      <td>--</td>\n",
       "      <td>446</td>\n",
       "    </tr>\n",
       "    <tr>\n",
       "      <th>14</th>\n",
       "      <td>2014</td>\n",
       "      <td>--</td>\n",
       "      <td>1139</td>\n",
       "      <td>78</td>\n",
       "      <td>34400</td>\n",
       "      <td>--</td>\n",
       "      <td>474</td>\n",
       "    </tr>\n",
       "    <tr>\n",
       "      <th>15</th>\n",
       "      <td>2015</td>\n",
       "      <td>--</td>\n",
       "      <td>1364</td>\n",
       "      <td>102</td>\n",
       "      <td>31800</td>\n",
       "      <td>--</td>\n",
       "      <td>468</td>\n",
       "    </tr>\n",
       "    <tr>\n",
       "      <th>16</th>\n",
       "      <td>2016</td>\n",
       "      <td>--</td>\n",
       "      <td>1637</td>\n",
       "      <td>134</td>\n",
       "      <td>31400</td>\n",
       "      <td>20</td>\n",
       "      <td>540</td>\n",
       "    </tr>\n",
       "    <tr>\n",
       "      <th>17</th>\n",
       "      <td>2017</td>\n",
       "      <td>--</td>\n",
       "      <td>2074</td>\n",
       "      <td>278</td>\n",
       "      <td>30500</td>\n",
       "      <td>23</td>\n",
       "      <td>616</td>\n",
       "    </tr>\n",
       "    <tr>\n",
       "      <th>18</th>\n",
       "      <td>2018</td>\n",
       "      <td>369</td>\n",
       "      <td>2767</td>\n",
       "      <td>338</td>\n",
       "      <td>32200.0</td>\n",
       "      <td>55</td>\n",
       "      <td>666</td>\n",
       "    </tr>\n",
       "    <tr>\n",
       "      <th>19</th>\n",
       "      <td>2019</td>\n",
       "      <td>423</td>\n",
       "      <td>3397</td>\n",
       "      <td>388</td>\n",
       "      <td>36800</td>\n",
       "      <td>126</td>\n",
       "      <td>698</td>\n",
       "    </tr>\n",
       "    <tr>\n",
       "      <th>20</th>\n",
       "      <td>2020</td>\n",
       "      <td>416</td>\n",
       "      <td>--</td>\n",
       "      <td>--</td>\n",
       "      <td>47600</td>\n",
       "      <td>152</td>\n",
       "      <td>738</td>\n",
       "    </tr>\n",
       "    <tr>\n",
       "      <th>21</th>\n",
       "      <td>2021</td>\n",
       "      <td>750</td>\n",
       "      <td>--</td>\n",
       "      <td>--</td>\n",
       "      <td>41000</td>\n",
       "      <td>144</td>\n",
       "      <td>--</td>\n",
       "    </tr>\n",
       "    <tr>\n",
       "      <th>22</th>\n",
       "      <td>2022</td>\n",
       "      <td>928</td>\n",
       "      <td>--</td>\n",
       "      <td>--</td>\n",
       "      <td>--</td>\n",
       "      <td>--</td>\n",
       "      <td>--</td>\n",
       "    </tr>\n",
       "  </tbody>\n",
       "</table>\n",
       "</div>"
      ],
      "text/plain": [
       "   E-bike Sales Data Across the World Unnamed: 1 Unnamed: 2 Unnamed: 3  \\\n",
       "6                                2006         --         98         --   \n",
       "7                                2007         --        173         --   \n",
       "8                                2008         --        279         15   \n",
       "9                                2009         --        422         24   \n",
       "10                               2010         --        588         38   \n",
       "11                               2011         --        716         37   \n",
       "12                               2012         --        854         46   \n",
       "13                               2013         --        907         57   \n",
       "14                               2014         --       1139         78   \n",
       "15                               2015         --       1364        102   \n",
       "16                               2016         --       1637        134   \n",
       "17                               2017         --       2074        278   \n",
       "18                               2018        369       2767        338   \n",
       "19                               2019        423       3397        388   \n",
       "20                               2020        416         --         --   \n",
       "21                               2021        750         --         --   \n",
       "22                               2022        928         --         --   \n",
       "\n",
       "   Unnamed: 4 Unnamed: 5 Unnamed: 6  \n",
       "6          --         --         --  \n",
       "7          --         --         --  \n",
       "8          --         --         --  \n",
       "9          --         --         --  \n",
       "10         --         --         --  \n",
       "11         --         --        409  \n",
       "12      34500         --        392  \n",
       "13      36000         --        446  \n",
       "14      34400         --        474  \n",
       "15      31800         --        468  \n",
       "16      31400         20        540  \n",
       "17      30500         23        616  \n",
       "18    32200.0         55        666  \n",
       "19      36800        126        698  \n",
       "20      47600        152        738  \n",
       "21      41000        144         --  \n",
       "22         --         --         --  "
      ]
     },
     "execution_count": 54,
     "metadata": {},
     "output_type": "execute_result"
    }
   ],
   "source": [
    "df1"
   ]
  },
  {
   "cell_type": "code",
   "execution_count": null,
   "id": "2bc07cbd",
   "metadata": {},
   "outputs": [],
   "source": []
  },
  {
   "cell_type": "code",
   "execution_count": 55,
   "id": "1f916f2a",
   "metadata": {},
   "outputs": [
    {
     "data": {
      "text/html": [
       "<div>\n",
       "<style scoped>\n",
       "    .dataframe tbody tr th:only-of-type {\n",
       "        vertical-align: middle;\n",
       "    }\n",
       "\n",
       "    .dataframe tbody tr th {\n",
       "        vertical-align: top;\n",
       "    }\n",
       "\n",
       "    .dataframe thead th {\n",
       "        text-align: right;\n",
       "    }\n",
       "</style>\n",
       "<table border=\"1\" class=\"dataframe\">\n",
       "  <thead>\n",
       "    <tr style=\"text-align: right;\">\n",
       "      <th></th>\n",
       "      <th>E-bike Sales Data Across the World</th>\n",
       "      <th>Unnamed: 1</th>\n",
       "      <th>Unnamed: 2</th>\n",
       "      <th>Unnamed: 3</th>\n",
       "      <th>Unnamed: 4</th>\n",
       "      <th>Unnamed: 5</th>\n",
       "      <th>Unnamed: 6</th>\n",
       "    </tr>\n",
       "  </thead>\n",
       "  <tbody>\n",
       "    <tr>\n",
       "      <th>6</th>\n",
       "      <td>2006</td>\n",
       "      <td>--</td>\n",
       "      <td>98</td>\n",
       "      <td>--</td>\n",
       "      <td>--</td>\n",
       "      <td>--</td>\n",
       "      <td>--</td>\n",
       "    </tr>\n",
       "    <tr>\n",
       "      <th>7</th>\n",
       "      <td>2007</td>\n",
       "      <td>--</td>\n",
       "      <td>173</td>\n",
       "      <td>--</td>\n",
       "      <td>--</td>\n",
       "      <td>--</td>\n",
       "      <td>--</td>\n",
       "    </tr>\n",
       "    <tr>\n",
       "      <th>8</th>\n",
       "      <td>2008</td>\n",
       "      <td>--</td>\n",
       "      <td>279</td>\n",
       "      <td>15</td>\n",
       "      <td>--</td>\n",
       "      <td>--</td>\n",
       "      <td>--</td>\n",
       "    </tr>\n",
       "    <tr>\n",
       "      <th>9</th>\n",
       "      <td>2009</td>\n",
       "      <td>--</td>\n",
       "      <td>422</td>\n",
       "      <td>24</td>\n",
       "      <td>--</td>\n",
       "      <td>--</td>\n",
       "      <td>--</td>\n",
       "    </tr>\n",
       "    <tr>\n",
       "      <th>10</th>\n",
       "      <td>2010</td>\n",
       "      <td>--</td>\n",
       "      <td>588</td>\n",
       "      <td>38</td>\n",
       "      <td>--</td>\n",
       "      <td>--</td>\n",
       "      <td>--</td>\n",
       "    </tr>\n",
       "    <tr>\n",
       "      <th>11</th>\n",
       "      <td>2011</td>\n",
       "      <td>--</td>\n",
       "      <td>716</td>\n",
       "      <td>37</td>\n",
       "      <td>--</td>\n",
       "      <td>--</td>\n",
       "      <td>409</td>\n",
       "    </tr>\n",
       "    <tr>\n",
       "      <th>12</th>\n",
       "      <td>2012</td>\n",
       "      <td>--</td>\n",
       "      <td>854</td>\n",
       "      <td>46</td>\n",
       "      <td>34500</td>\n",
       "      <td>--</td>\n",
       "      <td>392</td>\n",
       "    </tr>\n",
       "    <tr>\n",
       "      <th>13</th>\n",
       "      <td>2013</td>\n",
       "      <td>--</td>\n",
       "      <td>907</td>\n",
       "      <td>57</td>\n",
       "      <td>36000</td>\n",
       "      <td>--</td>\n",
       "      <td>446</td>\n",
       "    </tr>\n",
       "    <tr>\n",
       "      <th>14</th>\n",
       "      <td>2014</td>\n",
       "      <td>--</td>\n",
       "      <td>1139</td>\n",
       "      <td>78</td>\n",
       "      <td>34400</td>\n",
       "      <td>--</td>\n",
       "      <td>474</td>\n",
       "    </tr>\n",
       "    <tr>\n",
       "      <th>15</th>\n",
       "      <td>2015</td>\n",
       "      <td>--</td>\n",
       "      <td>1364</td>\n",
       "      <td>102</td>\n",
       "      <td>31800</td>\n",
       "      <td>--</td>\n",
       "      <td>468</td>\n",
       "    </tr>\n",
       "    <tr>\n",
       "      <th>16</th>\n",
       "      <td>2016</td>\n",
       "      <td>--</td>\n",
       "      <td>1637</td>\n",
       "      <td>134</td>\n",
       "      <td>31400</td>\n",
       "      <td>20</td>\n",
       "      <td>540</td>\n",
       "    </tr>\n",
       "    <tr>\n",
       "      <th>17</th>\n",
       "      <td>2017</td>\n",
       "      <td>--</td>\n",
       "      <td>2074</td>\n",
       "      <td>278</td>\n",
       "      <td>30500</td>\n",
       "      <td>23</td>\n",
       "      <td>616</td>\n",
       "    </tr>\n",
       "    <tr>\n",
       "      <th>18</th>\n",
       "      <td>2018</td>\n",
       "      <td>369</td>\n",
       "      <td>2767</td>\n",
       "      <td>338</td>\n",
       "      <td>32200.0</td>\n",
       "      <td>55</td>\n",
       "      <td>666</td>\n",
       "    </tr>\n",
       "    <tr>\n",
       "      <th>19</th>\n",
       "      <td>2019</td>\n",
       "      <td>423</td>\n",
       "      <td>3397</td>\n",
       "      <td>388</td>\n",
       "      <td>36800</td>\n",
       "      <td>126</td>\n",
       "      <td>698</td>\n",
       "    </tr>\n",
       "    <tr>\n",
       "      <th>20</th>\n",
       "      <td>2020</td>\n",
       "      <td>416</td>\n",
       "      <td>--</td>\n",
       "      <td>--</td>\n",
       "      <td>47600</td>\n",
       "      <td>152</td>\n",
       "      <td>738</td>\n",
       "    </tr>\n",
       "    <tr>\n",
       "      <th>21</th>\n",
       "      <td>2021</td>\n",
       "      <td>750</td>\n",
       "      <td>--</td>\n",
       "      <td>--</td>\n",
       "      <td>41000</td>\n",
       "      <td>144</td>\n",
       "      <td>--</td>\n",
       "    </tr>\n",
       "    <tr>\n",
       "      <th>22</th>\n",
       "      <td>2022</td>\n",
       "      <td>928</td>\n",
       "      <td>--</td>\n",
       "      <td>--</td>\n",
       "      <td>--</td>\n",
       "      <td>--</td>\n",
       "      <td>--</td>\n",
       "    </tr>\n",
       "  </tbody>\n",
       "</table>\n",
       "</div>"
      ],
      "text/plain": [
       "   E-bike Sales Data Across the World Unnamed: 1 Unnamed: 2 Unnamed: 3  \\\n",
       "6                                2006         --         98         --   \n",
       "7                                2007         --        173         --   \n",
       "8                                2008         --        279         15   \n",
       "9                                2009         --        422         24   \n",
       "10                               2010         --        588         38   \n",
       "11                               2011         --        716         37   \n",
       "12                               2012         --        854         46   \n",
       "13                               2013         --        907         57   \n",
       "14                               2014         --       1139         78   \n",
       "15                               2015         --       1364        102   \n",
       "16                               2016         --       1637        134   \n",
       "17                               2017         --       2074        278   \n",
       "18                               2018        369       2767        338   \n",
       "19                               2019        423       3397        388   \n",
       "20                               2020        416         --         --   \n",
       "21                               2021        750         --         --   \n",
       "22                               2022        928         --         --   \n",
       "\n",
       "   Unnamed: 4 Unnamed: 5 Unnamed: 6  \n",
       "6          --         --         --  \n",
       "7          --         --         --  \n",
       "8          --         --         --  \n",
       "9          --         --         --  \n",
       "10         --         --         --  \n",
       "11         --         --        409  \n",
       "12      34500         --        392  \n",
       "13      36000         --        446  \n",
       "14      34400         --        474  \n",
       "15      31800         --        468  \n",
       "16      31400         20        540  \n",
       "17      30500         23        616  \n",
       "18    32200.0         55        666  \n",
       "19      36800        126        698  \n",
       "20      47600        152        738  \n",
       "21      41000        144         --  \n",
       "22         --         --         --  "
      ]
     },
     "execution_count": 55,
     "metadata": {},
     "output_type": "execute_result"
    }
   ],
   "source": [
    "df1"
   ]
  },
  {
   "cell_type": "code",
   "execution_count": 56,
   "id": "f3bdc88c",
   "metadata": {},
   "outputs": [],
   "source": [
    "df1 = df1.rename(columns = {'E-bike Sales Data Across the World': \"Year\", \"Unnamed: 1\"\n",
    "                            : \"United States (1000s)\",\n",
    "                            \"Unnamed: 2\" : \"Europe (1000s)\", \n",
    "                            \"Unnamed: 3\": \"France (1000s)\", \n",
    "                            \"Unnamed: 4\": \"China (1000s)\",\n",
    "                            \"Unnamed: 5\": \"India (1000s)\",\n",
    "                             \"Unnamed: 6\": \"Japan (1000s)\"})"
   ]
  },
  {
   "cell_type": "code",
   "execution_count": 57,
   "id": "d34d4eb0",
   "metadata": {},
   "outputs": [
    {
     "data": {
      "text/html": [
       "<div>\n",
       "<style scoped>\n",
       "    .dataframe tbody tr th:only-of-type {\n",
       "        vertical-align: middle;\n",
       "    }\n",
       "\n",
       "    .dataframe tbody tr th {\n",
       "        vertical-align: top;\n",
       "    }\n",
       "\n",
       "    .dataframe thead th {\n",
       "        text-align: right;\n",
       "    }\n",
       "</style>\n",
       "<table border=\"1\" class=\"dataframe\">\n",
       "  <thead>\n",
       "    <tr style=\"text-align: right;\">\n",
       "      <th></th>\n",
       "      <th>Year</th>\n",
       "      <th>United States (1000s)</th>\n",
       "      <th>Europe (1000s)</th>\n",
       "      <th>Frances (1000s)</th>\n",
       "      <th>China (1000s)</th>\n",
       "      <th>India (1000s)</th>\n",
       "      <th>Japan (1000s)</th>\n",
       "    </tr>\n",
       "  </thead>\n",
       "  <tbody>\n",
       "    <tr>\n",
       "      <th>6</th>\n",
       "      <td>2006</td>\n",
       "      <td>--</td>\n",
       "      <td>98</td>\n",
       "      <td>--</td>\n",
       "      <td>--</td>\n",
       "      <td>--</td>\n",
       "      <td>--</td>\n",
       "    </tr>\n",
       "    <tr>\n",
       "      <th>7</th>\n",
       "      <td>2007</td>\n",
       "      <td>--</td>\n",
       "      <td>173</td>\n",
       "      <td>--</td>\n",
       "      <td>--</td>\n",
       "      <td>--</td>\n",
       "      <td>--</td>\n",
       "    </tr>\n",
       "    <tr>\n",
       "      <th>8</th>\n",
       "      <td>2008</td>\n",
       "      <td>--</td>\n",
       "      <td>279</td>\n",
       "      <td>15</td>\n",
       "      <td>--</td>\n",
       "      <td>--</td>\n",
       "      <td>--</td>\n",
       "    </tr>\n",
       "    <tr>\n",
       "      <th>9</th>\n",
       "      <td>2009</td>\n",
       "      <td>--</td>\n",
       "      <td>422</td>\n",
       "      <td>24</td>\n",
       "      <td>--</td>\n",
       "      <td>--</td>\n",
       "      <td>--</td>\n",
       "    </tr>\n",
       "    <tr>\n",
       "      <th>10</th>\n",
       "      <td>2010</td>\n",
       "      <td>--</td>\n",
       "      <td>588</td>\n",
       "      <td>38</td>\n",
       "      <td>--</td>\n",
       "      <td>--</td>\n",
       "      <td>--</td>\n",
       "    </tr>\n",
       "    <tr>\n",
       "      <th>11</th>\n",
       "      <td>2011</td>\n",
       "      <td>--</td>\n",
       "      <td>716</td>\n",
       "      <td>37</td>\n",
       "      <td>--</td>\n",
       "      <td>--</td>\n",
       "      <td>409</td>\n",
       "    </tr>\n",
       "    <tr>\n",
       "      <th>12</th>\n",
       "      <td>2012</td>\n",
       "      <td>--</td>\n",
       "      <td>854</td>\n",
       "      <td>46</td>\n",
       "      <td>34500</td>\n",
       "      <td>--</td>\n",
       "      <td>392</td>\n",
       "    </tr>\n",
       "    <tr>\n",
       "      <th>13</th>\n",
       "      <td>2013</td>\n",
       "      <td>--</td>\n",
       "      <td>907</td>\n",
       "      <td>57</td>\n",
       "      <td>36000</td>\n",
       "      <td>--</td>\n",
       "      <td>446</td>\n",
       "    </tr>\n",
       "    <tr>\n",
       "      <th>14</th>\n",
       "      <td>2014</td>\n",
       "      <td>--</td>\n",
       "      <td>1139</td>\n",
       "      <td>78</td>\n",
       "      <td>34400</td>\n",
       "      <td>--</td>\n",
       "      <td>474</td>\n",
       "    </tr>\n",
       "    <tr>\n",
       "      <th>15</th>\n",
       "      <td>2015</td>\n",
       "      <td>--</td>\n",
       "      <td>1364</td>\n",
       "      <td>102</td>\n",
       "      <td>31800</td>\n",
       "      <td>--</td>\n",
       "      <td>468</td>\n",
       "    </tr>\n",
       "    <tr>\n",
       "      <th>16</th>\n",
       "      <td>2016</td>\n",
       "      <td>--</td>\n",
       "      <td>1637</td>\n",
       "      <td>134</td>\n",
       "      <td>31400</td>\n",
       "      <td>20</td>\n",
       "      <td>540</td>\n",
       "    </tr>\n",
       "    <tr>\n",
       "      <th>17</th>\n",
       "      <td>2017</td>\n",
       "      <td>--</td>\n",
       "      <td>2074</td>\n",
       "      <td>278</td>\n",
       "      <td>30500</td>\n",
       "      <td>23</td>\n",
       "      <td>616</td>\n",
       "    </tr>\n",
       "    <tr>\n",
       "      <th>18</th>\n",
       "      <td>2018</td>\n",
       "      <td>369</td>\n",
       "      <td>2767</td>\n",
       "      <td>338</td>\n",
       "      <td>32200.0</td>\n",
       "      <td>55</td>\n",
       "      <td>666</td>\n",
       "    </tr>\n",
       "    <tr>\n",
       "      <th>19</th>\n",
       "      <td>2019</td>\n",
       "      <td>423</td>\n",
       "      <td>3397</td>\n",
       "      <td>388</td>\n",
       "      <td>36800</td>\n",
       "      <td>126</td>\n",
       "      <td>698</td>\n",
       "    </tr>\n",
       "    <tr>\n",
       "      <th>20</th>\n",
       "      <td>2020</td>\n",
       "      <td>416</td>\n",
       "      <td>--</td>\n",
       "      <td>--</td>\n",
       "      <td>47600</td>\n",
       "      <td>152</td>\n",
       "      <td>738</td>\n",
       "    </tr>\n",
       "    <tr>\n",
       "      <th>21</th>\n",
       "      <td>2021</td>\n",
       "      <td>750</td>\n",
       "      <td>--</td>\n",
       "      <td>--</td>\n",
       "      <td>41000</td>\n",
       "      <td>144</td>\n",
       "      <td>--</td>\n",
       "    </tr>\n",
       "    <tr>\n",
       "      <th>22</th>\n",
       "      <td>2022</td>\n",
       "      <td>928</td>\n",
       "      <td>--</td>\n",
       "      <td>--</td>\n",
       "      <td>--</td>\n",
       "      <td>--</td>\n",
       "      <td>--</td>\n",
       "    </tr>\n",
       "  </tbody>\n",
       "</table>\n",
       "</div>"
      ],
      "text/plain": [
       "    Year United States (1000s) Europe (1000s) Frances (1000s) China (1000s)  \\\n",
       "6   2006                    --             98              --            --   \n",
       "7   2007                    --            173              --            --   \n",
       "8   2008                    --            279              15            --   \n",
       "9   2009                    --            422              24            --   \n",
       "10  2010                    --            588              38            --   \n",
       "11  2011                    --            716              37            --   \n",
       "12  2012                    --            854              46         34500   \n",
       "13  2013                    --            907              57         36000   \n",
       "14  2014                    --           1139              78         34400   \n",
       "15  2015                    --           1364             102         31800   \n",
       "16  2016                    --           1637             134         31400   \n",
       "17  2017                    --           2074             278         30500   \n",
       "18  2018                   369           2767             338       32200.0   \n",
       "19  2019                   423           3397             388         36800   \n",
       "20  2020                   416             --              --         47600   \n",
       "21  2021                   750             --              --         41000   \n",
       "22  2022                   928             --              --            --   \n",
       "\n",
       "   India (1000s) Japan (1000s)  \n",
       "6             --            --  \n",
       "7             --            --  \n",
       "8             --            --  \n",
       "9             --            --  \n",
       "10            --            --  \n",
       "11            --           409  \n",
       "12            --           392  \n",
       "13            --           446  \n",
       "14            --           474  \n",
       "15            --           468  \n",
       "16            20           540  \n",
       "17            23           616  \n",
       "18            55           666  \n",
       "19           126           698  \n",
       "20           152           738  \n",
       "21           144            --  \n",
       "22            --            --  "
      ]
     },
     "execution_count": 57,
     "metadata": {},
     "output_type": "execute_result"
    }
   ],
   "source": [
    "df1"
   ]
  },
  {
   "cell_type": "code",
   "execution_count": 75,
   "id": "9d03956c",
   "metadata": {},
   "outputs": [],
   "source": [
    "df1 = df1.replace(\"--\", value = np.nan)"
   ]
  },
  {
   "cell_type": "code",
   "execution_count": 76,
   "id": "2bc6da03",
   "metadata": {},
   "outputs": [],
   "source": [
    "dfUS = df1[[\"Year\", \"United States (1000s)\"]]"
   ]
  },
  {
   "cell_type": "code",
   "execution_count": 82,
   "id": "26a5aa2d",
   "metadata": {},
   "outputs": [],
   "source": [
    "dfUS = dfUS.dropna(axis = 0)"
   ]
  },
  {
   "cell_type": "code",
   "execution_count": 83,
   "id": "1f280944",
   "metadata": {},
   "outputs": [],
   "source": [
    "X = dfUS[['Year']]"
   ]
  },
  {
   "cell_type": "code",
   "execution_count": 84,
   "id": "e9a1bef9",
   "metadata": {},
   "outputs": [],
   "source": [
    "Y_US = dfUS[[\"United States (1000s)\"]].drop(\"20\", axis = 0)"
   ]
  },
  {
   "cell_type": "code",
   "execution_count": 85,
   "id": "4a01fb37",
   "metadata": {},
   "outputs": [],
   "source": [
    "linear = LinearRegression()"
   ]
  },
  {
   "cell_type": "code",
   "execution_count": 86,
   "id": "48e76c30",
   "metadata": {},
   "outputs": [
    {
     "data": {
      "text/plain": [
       "LinearRegression()"
      ]
     },
     "execution_count": 86,
     "metadata": {},
     "output_type": "execute_result"
    }
   ],
   "source": [
    "linear.fit(X, Y_US)"
   ]
  },
  {
   "cell_type": "code",
   "execution_count": 111,
   "id": "018c8fd6",
   "metadata": {},
   "outputs": [
    {
     "data": {
      "image/png": "[encoded data removed]",
      "text/plain": [
       "<Figure size 432x288 with 1 Axes>"
      ]
     },
     "metadata": {
      "needs_background": "light"
     },
     "output_type": "display_data"
    }
   ],
   "source": [
    "y_pred = linear.predict(X)\n",
    "plt.plot(X, y_pred, color = \"red\")\n",
    "plt.scatter(X, Y_US)\n",
    "plt.show()"
   ]
  },
  {
   "cell_type": "code",
   "execution_count": 96,
   "id": "61b052fa",
   "metadata": {},
   "outputs": [
    {
     "data": {
      "text/plain": [
       "0.8486843923606313"
      ]
     },
     "execution_count": 96,
     "metadata": {},
     "output_type": "execute_result"
    }
   ],
   "source": [
    "r_squared = linear.score(X, Y_US)\n",
    "r_squared"
   ]
  },
  {
   "cell_type": "code",
   "execution_count": 120,
   "id": "64505a60",
   "metadata": {},
   "outputs": [
    {
     "ename": "ValueError",
     "evalue": "x and y must be the same size",
     "output_type": "error",
     "traceback": [
      "\u001b[0;31m---------------------------------------------------------------------------\u001b[0m",
      "\u001b[0;31mValueError\u001b[0m                                Traceback (most recent call last)",
      "\u001b[0;32m<ipython-input-120-fe19b480a8c5>\u001b[0m in \u001b[0;36m<module>\u001b[0;34m\u001b[0m\n\u001b[1;32m      1\u001b[0m \u001b[0mX_US2\u001b[0m \u001b[0;34m=\u001b[0m \u001b[0mdfUS\u001b[0m\u001b[0;34m[\u001b[0m\u001b[0;34m[\u001b[0m\u001b[0;34m\"Year\"\u001b[0m\u001b[0;34m]\u001b[0m\u001b[0;34m]\u001b[0m\u001b[0;34m.\u001b[0m\u001b[0mdrop\u001b[0m\u001b[0;34m(\u001b[0m\u001b[0;36m20\u001b[0m\u001b[0;34m,\u001b[0m \u001b[0maxis\u001b[0m \u001b[0;34m=\u001b[0m \u001b[0;36m0\u001b[0m\u001b[0;34m)\u001b[0m\u001b[0;34m\u001b[0m\u001b[0;34m\u001b[0m\u001b[0m\n\u001b[0;32m----> 2\u001b[0;31m \u001b[0mplt\u001b[0m\u001b[0;34m.\u001b[0m\u001b[0mscatter\u001b[0m\u001b[0;34m(\u001b[0m\u001b[0mX_US2\u001b[0m\u001b[0;34m,\u001b[0m \u001b[0mY_US\u001b[0m\u001b[0;34m)\u001b[0m\u001b[0;34m\u001b[0m\u001b[0;34m\u001b[0m\u001b[0m\n\u001b[0m\u001b[1;32m      3\u001b[0m \u001b[0mplt\u001b[0m\u001b[0;34m.\u001b[0m\u001b[0mshow\u001b[0m\u001b[0;34m(\u001b[0m\u001b[0;34m)\u001b[0m\u001b[0;34m\u001b[0m\u001b[0;34m\u001b[0m\u001b[0m\n",
      "\u001b[0;32m~/opt/anaconda3/lib/python3.8/site-packages/matplotlib/pyplot.py\u001b[0m in \u001b[0;36mscatter\u001b[0;34m(x, y, s, c, marker, cmap, norm, vmin, vmax, alpha, linewidths, verts, edgecolors, plotnonfinite, data, **kwargs)\u001b[0m\n\u001b[1;32m   2888\u001b[0m         \u001b[0mverts\u001b[0m\u001b[0;34m=\u001b[0m\u001b[0mcbook\u001b[0m\u001b[0;34m.\u001b[0m\u001b[0mdeprecation\u001b[0m\u001b[0;34m.\u001b[0m\u001b[0m_deprecated_parameter\u001b[0m\u001b[0;34m,\u001b[0m\u001b[0;34m\u001b[0m\u001b[0;34m\u001b[0m\u001b[0m\n\u001b[1;32m   2889\u001b[0m         edgecolors=None, *, plotnonfinite=False, data=None, **kwargs):\n\u001b[0;32m-> 2890\u001b[0;31m     __ret = gca().scatter(\n\u001b[0m\u001b[1;32m   2891\u001b[0m         \u001b[0mx\u001b[0m\u001b[0;34m,\u001b[0m \u001b[0my\u001b[0m\u001b[0;34m,\u001b[0m \u001b[0ms\u001b[0m\u001b[0;34m=\u001b[0m\u001b[0ms\u001b[0m\u001b[0;34m,\u001b[0m \u001b[0mc\u001b[0m\u001b[0;34m=\u001b[0m\u001b[0mc\u001b[0m\u001b[0;34m,\u001b[0m \u001b[0mmarker\u001b[0m\u001b[0;34m=\u001b[0m\u001b[0mmarker\u001b[0m\u001b[0;34m,\u001b[0m \u001b[0mcmap\u001b[0m\u001b[0;34m=\u001b[0m\u001b[0mcmap\u001b[0m\u001b[0;34m,\u001b[0m \u001b[0mnorm\u001b[0m\u001b[0;34m=\u001b[0m\u001b[0mnorm\u001b[0m\u001b[0;34m,\u001b[0m\u001b[0;34m\u001b[0m\u001b[0;34m\u001b[0m\u001b[0m\n\u001b[1;32m   2892\u001b[0m         \u001b[0mvmin\u001b[0m\u001b[0;34m=\u001b[0m\u001b[0mvmin\u001b[0m\u001b[0;34m,\u001b[0m \u001b[0mvmax\u001b[0m\u001b[0;34m=\u001b[0m\u001b[0mvmax\u001b[0m\u001b[0;34m,\u001b[0m \u001b[0malpha\u001b[0m\u001b[0;34m=\u001b[0m\u001b[0malpha\u001b[0m\u001b[0;34m,\u001b[0m \u001b[0mlinewidths\u001b[0m\u001b[0;34m=\u001b[0m\u001b[0mlinewidths\u001b[0m\u001b[0;34m,\u001b[0m\u001b[0;34m\u001b[0m\u001b[0;34m\u001b[0m\u001b[0m\n",
      "\u001b[0;32m~/opt/anaconda3/lib/python3.8/site-packages/matplotlib/__init__.py\u001b[0m in \u001b[0;36minner\u001b[0;34m(ax, data, *args, **kwargs)\u001b[0m\n\u001b[1;32m   1445\u001b[0m     \u001b[0;32mdef\u001b[0m \u001b[0minner\u001b[0m\u001b[0;34m(\u001b[0m\u001b[0max\u001b[0m\u001b[0;34m,\u001b[0m \u001b[0;34m*\u001b[0m\u001b[0margs\u001b[0m\u001b[0;34m,\u001b[0m \u001b[0mdata\u001b[0m\u001b[0;34m=\u001b[0m\u001b[0;32mNone\u001b[0m\u001b[0;34m,\u001b[0m \u001b[0;34m**\u001b[0m\u001b[0mkwargs\u001b[0m\u001b[0;34m)\u001b[0m\u001b[0;34m:\u001b[0m\u001b[0;34m\u001b[0m\u001b[0;34m\u001b[0m\u001b[0m\n\u001b[1;32m   1446\u001b[0m         \u001b[0;32mif\u001b[0m \u001b[0mdata\u001b[0m \u001b[0;32mis\u001b[0m \u001b[0;32mNone\u001b[0m\u001b[0;34m:\u001b[0m\u001b[0;34m\u001b[0m\u001b[0;34m\u001b[0m\u001b[0m\n\u001b[0;32m-> 1447\u001b[0;31m             \u001b[0;32mreturn\u001b[0m \u001b[0mfunc\u001b[0m\u001b[0;34m(\u001b[0m\u001b[0max\u001b[0m\u001b[0;34m,\u001b[0m \u001b[0;34m*\u001b[0m\u001b[0mmap\u001b[0m\u001b[0;34m(\u001b[0m\u001b[0msanitize_sequence\u001b[0m\u001b[0;34m,\u001b[0m \u001b[0margs\u001b[0m\u001b[0;34m)\u001b[0m\u001b[0;34m,\u001b[0m \u001b[0;34m**\u001b[0m\u001b[0mkwargs\u001b[0m\u001b[0;34m)\u001b[0m\u001b[0;34m\u001b[0m\u001b[0;34m\u001b[0m\u001b[0m\n\u001b[0m\u001b[1;32m   1448\u001b[0m \u001b[0;34m\u001b[0m\u001b[0m\n\u001b[1;32m   1449\u001b[0m         \u001b[0mbound\u001b[0m \u001b[0;34m=\u001b[0m \u001b[0mnew_sig\u001b[0m\u001b[0;34m.\u001b[0m\u001b[0mbind\u001b[0m\u001b[0;34m(\u001b[0m\u001b[0max\u001b[0m\u001b[0;34m,\u001b[0m \u001b[0;34m*\u001b[0m\u001b[0margs\u001b[0m\u001b[0;34m,\u001b[0m \u001b[0;34m**\u001b[0m\u001b[0mkwargs\u001b[0m\u001b[0;34m)\u001b[0m\u001b[0;34m\u001b[0m\u001b[0;34m\u001b[0m\u001b[0m\n",
      "\u001b[0;32m~/opt/anaconda3/lib/python3.8/site-packages/matplotlib/cbook/deprecation.py\u001b[0m in \u001b[0;36mwrapper\u001b[0;34m(*inner_args, **inner_kwargs)\u001b[0m\n\u001b[1;32m    409\u001b[0m                          \u001b[0;32melse\u001b[0m \u001b[0mdeprecation_addendum\u001b[0m\u001b[0;34m,\u001b[0m\u001b[0;34m\u001b[0m\u001b[0;34m\u001b[0m\u001b[0m\n\u001b[1;32m    410\u001b[0m                 **kwargs)\n\u001b[0;32m--> 411\u001b[0;31m         \u001b[0;32mreturn\u001b[0m \u001b[0mfunc\u001b[0m\u001b[0;34m(\u001b[0m\u001b[0;34m*\u001b[0m\u001b[0minner_args\u001b[0m\u001b[0;34m,\u001b[0m \u001b[0;34m**\u001b[0m\u001b[0minner_kwargs\u001b[0m\u001b[0;34m)\u001b[0m\u001b[0;34m\u001b[0m\u001b[0;34m\u001b[0m\u001b[0m\n\u001b[0m\u001b[1;32m    412\u001b[0m \u001b[0;34m\u001b[0m\u001b[0m\n\u001b[1;32m    413\u001b[0m     \u001b[0;32mreturn\u001b[0m \u001b[0mwrapper\u001b[0m\u001b[0;34m\u001b[0m\u001b[0;34m\u001b[0m\u001b[0m\n",
      "\u001b[0;32m~/opt/anaconda3/lib/python3.8/site-packages/matplotlib/axes/_axes.py\u001b[0m in \u001b[0;36mscatter\u001b[0;34m(self, x, y, s, c, marker, cmap, norm, vmin, vmax, alpha, linewidths, verts, edgecolors, plotnonfinite, **kwargs)\u001b[0m\n\u001b[1;32m   4439\u001b[0m         \u001b[0my\u001b[0m \u001b[0;34m=\u001b[0m \u001b[0mnp\u001b[0m\u001b[0;34m.\u001b[0m\u001b[0mma\u001b[0m\u001b[0;34m.\u001b[0m\u001b[0mravel\u001b[0m\u001b[0;34m(\u001b[0m\u001b[0my\u001b[0m\u001b[0;34m)\u001b[0m\u001b[0;34m\u001b[0m\u001b[0;34m\u001b[0m\u001b[0m\n\u001b[1;32m   4440\u001b[0m         \u001b[0;32mif\u001b[0m \u001b[0mx\u001b[0m\u001b[0;34m.\u001b[0m\u001b[0msize\u001b[0m \u001b[0;34m!=\u001b[0m \u001b[0my\u001b[0m\u001b[0;34m.\u001b[0m\u001b[0msize\u001b[0m\u001b[0;34m:\u001b[0m\u001b[0;34m\u001b[0m\u001b[0;34m\u001b[0m\u001b[0m\n\u001b[0;32m-> 4441\u001b[0;31m             \u001b[0;32mraise\u001b[0m \u001b[0mValueError\u001b[0m\u001b[0;34m(\u001b[0m\u001b[0;34m\"x and y must be the same size\"\u001b[0m\u001b[0;34m)\u001b[0m\u001b[0;34m\u001b[0m\u001b[0;34m\u001b[0m\u001b[0m\n\u001b[0m\u001b[1;32m   4442\u001b[0m \u001b[0;34m\u001b[0m\u001b[0m\n\u001b[1;32m   4443\u001b[0m         \u001b[0;32mif\u001b[0m \u001b[0ms\u001b[0m \u001b[0;32mis\u001b[0m \u001b[0;32mNone\u001b[0m\u001b[0;34m:\u001b[0m\u001b[0;34m\u001b[0m\u001b[0;34m\u001b[0m\u001b[0m\n",
      "\u001b[0;31mValueError\u001b[0m: x and y must be the same size"
     ]
    },
    {
     "data": {
      "image/png": "[encoded data removed]",
      "text/plain": [
       "<Figure size 432x288 with 1 Axes>"
      ]
     },
     "metadata": {
      "needs_background": "light"
     },
     "output_type": "display_data"
    }
   ],
   "source": [
    "X_US2 = dfUS[[\"Year\"]].drop(20, axis = 0)\n"
   ]
  },
  {
   "cell_type": "code",
   "execution_count": 121,
   "id": "5bdb7f84",
   "metadata": {},
   "outputs": [],
   "source": [
    "Y_US2 = dfUS[[\"United States (1000s)\"]].drop(20, axis = 0)"
   ]
  },
  {
   "cell_type": "code",
   "execution_count": 106,
   "id": "fc6b6067",
   "metadata": {},
   "outputs": [
    {
     "data": {
      "text/html": [
       "<div>\n",
       "<style scoped>\n",
       "    .dataframe tbody tr th:only-of-type {\n",
       "        vertical-align: middle;\n",
       "    }\n",
       "\n",
       "    .dataframe tbody tr th {\n",
       "        vertical-align: top;\n",
       "    }\n",
       "\n",
       "    .dataframe thead th {\n",
       "        text-align: right;\n",
       "    }\n",
       "</style>\n",
       "<table border=\"1\" class=\"dataframe\">\n",
       "  <thead>\n",
       "    <tr style=\"text-align: right;\">\n",
       "      <th></th>\n",
       "      <th>United States (1000s)</th>\n",
       "    </tr>\n",
       "  </thead>\n",
       "  <tbody>\n",
       "    <tr>\n",
       "      <th>18</th>\n",
       "      <td>369.0</td>\n",
       "    </tr>\n",
       "    <tr>\n",
       "      <th>19</th>\n",
       "      <td>423.0</td>\n",
       "    </tr>\n",
       "    <tr>\n",
       "      <th>21</th>\n",
       "      <td>750.0</td>\n",
       "    </tr>\n",
       "    <tr>\n",
       "      <th>22</th>\n",
       "      <td>928.0</td>\n",
       "    </tr>\n",
       "  </tbody>\n",
       "</table>\n",
       "</div>"
      ],
      "text/plain": [
       "    United States (1000s)\n",
       "18                  369.0\n",
       "19                  423.0\n",
       "21                  750.0\n",
       "22                  928.0"
      ]
     },
     "execution_count": 106,
     "metadata": {},
     "output_type": "execute_result"
    }
   ],
   "source": [
    "Y_US2"
   ]
  },
  {
   "cell_type": "code",
   "execution_count": 108,
   "id": "35cb01d3",
   "metadata": {},
   "outputs": [
    {
     "data": {
      "text/plain": [
       "LinearRegression()"
      ]
     },
     "execution_count": 108,
     "metadata": {},
     "output_type": "execute_result"
    }
   ],
   "source": [
    "linear.fit(X_US2, Y_US2)"
   ]
  },
  {
   "cell_type": "code",
   "execution_count": 110,
   "id": "78c7525c",
   "metadata": {},
   "outputs": [
    {
     "data": {
      "text/plain": [
       "0.9777732511039621"
      ]
     },
     "execution_count": 110,
     "metadata": {},
     "output_type": "execute_result"
    }
   ],
   "source": [
    "r_squared = linear.score(X_US2, Y_US2)\n",
    "r_squared"
   ]
  },
  {
   "cell_type": "code",
   "execution_count": 125,
   "id": "50cae23a",
   "metadata": {},
   "outputs": [
    {
     "data": {
      "image/png": "[encoded data removed]",
      "text/plain": [
       "<Figure size 432x288 with 1 Axes>"
      ]
     },
     "metadata": {
      "needs_background": "light"
     },
     "output_type": "display_data"
    }
   ],
   "source": [
    "y_pred = linear.predict(X_US2)\n",
    "plt.plot(X_US2, y_pred, color = \"red\")\n",
    "plt.scatter(X_US2, Y_US2)\n",
    "plt.show()"
   ]
  },
  {
   "cell_type": "code",
   "execution_count": 139,
   "id": "a3b9314c",
   "metadata": {},
   "outputs": [],
   "source": [
    "dfEurope = df1[[\"Year\", \"Europe (1000s)\"]]\n",
    "dfEurope = dfEurope.dropna(axis = 0)"
   ]
  },
  {
   "cell_type": "code",
   "execution_count": 141,
   "id": "5bba626c",
   "metadata": {},
   "outputs": [
    {
     "data": {
      "text/html": [
       "<div>\n",
       "<style scoped>\n",
       "    .dataframe tbody tr th:only-of-type {\n",
       "        vertical-align: middle;\n",
       "    }\n",
       "\n",
       "    .dataframe tbody tr th {\n",
       "        vertical-align: top;\n",
       "    }\n",
       "\n",
       "    .dataframe thead th {\n",
       "        text-align: right;\n",
       "    }\n",
       "</style>\n",
       "<table border=\"1\" class=\"dataframe\">\n",
       "  <thead>\n",
       "    <tr style=\"text-align: right;\">\n",
       "      <th></th>\n",
       "      <th>Year</th>\n",
       "      <th>Europe (1000s)</th>\n",
       "    </tr>\n",
       "  </thead>\n",
       "  <tbody>\n",
       "    <tr>\n",
       "      <th>6</th>\n",
       "      <td>2006</td>\n",
       "      <td>98.0</td>\n",
       "    </tr>\n",
       "    <tr>\n",
       "      <th>7</th>\n",
       "      <td>2007</td>\n",
       "      <td>173.0</td>\n",
       "    </tr>\n",
       "    <tr>\n",
       "      <th>8</th>\n",
       "      <td>2008</td>\n",
       "      <td>279.0</td>\n",
       "    </tr>\n",
       "    <tr>\n",
       "      <th>9</th>\n",
       "      <td>2009</td>\n",
       "      <td>422.0</td>\n",
       "    </tr>\n",
       "    <tr>\n",
       "      <th>10</th>\n",
       "      <td>2010</td>\n",
       "      <td>588.0</td>\n",
       "    </tr>\n",
       "    <tr>\n",
       "      <th>11</th>\n",
       "      <td>2011</td>\n",
       "      <td>716.0</td>\n",
       "    </tr>\n",
       "    <tr>\n",
       "      <th>12</th>\n",
       "      <td>2012</td>\n",
       "      <td>854.0</td>\n",
       "    </tr>\n",
       "    <tr>\n",
       "      <th>13</th>\n",
       "      <td>2013</td>\n",
       "      <td>907.0</td>\n",
       "    </tr>\n",
       "    <tr>\n",
       "      <th>14</th>\n",
       "      <td>2014</td>\n",
       "      <td>1139.0</td>\n",
       "    </tr>\n",
       "    <tr>\n",
       "      <th>15</th>\n",
       "      <td>2015</td>\n",
       "      <td>1364.0</td>\n",
       "    </tr>\n",
       "    <tr>\n",
       "      <th>16</th>\n",
       "      <td>2016</td>\n",
       "      <td>1637.0</td>\n",
       "    </tr>\n",
       "    <tr>\n",
       "      <th>17</th>\n",
       "      <td>2017</td>\n",
       "      <td>2074.0</td>\n",
       "    </tr>\n",
       "    <tr>\n",
       "      <th>18</th>\n",
       "      <td>2018</td>\n",
       "      <td>2767.0</td>\n",
       "    </tr>\n",
       "    <tr>\n",
       "      <th>19</th>\n",
       "      <td>2019</td>\n",
       "      <td>3397.0</td>\n",
       "    </tr>\n",
       "  </tbody>\n",
       "</table>\n",
       "</div>"
      ],
      "text/plain": [
       "    Year  Europe (1000s)\n",
       "6   2006            98.0\n",
       "7   2007           173.0\n",
       "8   2008           279.0\n",
       "9   2009           422.0\n",
       "10  2010           588.0\n",
       "11  2011           716.0\n",
       "12  2012           854.0\n",
       "13  2013           907.0\n",
       "14  2014          1139.0\n",
       "15  2015          1364.0\n",
       "16  2016          1637.0\n",
       "17  2017          2074.0\n",
       "18  2018          2767.0\n",
       "19  2019          3397.0"
      ]
     },
     "execution_count": 141,
     "metadata": {},
     "output_type": "execute_result"
    }
   ],
   "source": [
    "dfEurope"
   ]
  },
  {
   "cell_type": "code",
   "execution_count": 143,
   "id": "49ebfb47",
   "metadata": {},
   "outputs": [],
   "source": [
    "X_Europe = dfEurope[['Year']]"
   ]
  },
  {
   "cell_type": "code",
   "execution_count": 144,
   "id": "09957cc5",
   "metadata": {},
   "outputs": [],
   "source": [
    "Y_Europe = dfEurope[[\"Europe (1000s)\"]]"
   ]
  },
  {
   "cell_type": "code",
   "execution_count": 148,
   "id": "f777d9ef",
   "metadata": {},
   "outputs": [
    {
     "data": {
      "text/plain": [
       "<matplotlib.collections.PathCollection at 0x7f84d0aeab20>"
      ]
     },
     "execution_count": 148,
     "metadata": {},
     "output_type": "execute_result"
    },
    {
     "data": {
      "image/png": "[encoded data removed]",
      "text/plain": [
       "<Figure size 432x288 with 1 Axes>"
      ]
     },
     "metadata": {
      "needs_background": "light"
     },
     "output_type": "display_data"
    }
   ],
   "source": [
    "plt.scatter(X_Europe, Y_Europe)"
   ]
  },
  {
   "cell_type": "code",
   "execution_count": 151,
   "id": "96518975",
   "metadata": {},
   "outputs": [
    {
     "data": {
      "text/plain": [
       "LinearRegression()"
      ]
     },
     "execution_count": 151,
     "metadata": {},
     "output_type": "execute_result"
    }
   ],
   "source": [
    "linear.fit(X_Europe, np.log(Y_Europe))"
   ]
  },
  {
   "cell_type": "code",
   "execution_count": 156,
   "id": "a8d38fa9",
   "metadata": {},
   "outputs": [
    {
     "data": {
      "image/png": "[encoded data removed]",
      "text/plain": [
       "<Figure size 432x288 with 1 Axes>"
      ]
     },
     "metadata": {
      "needs_background": "light"
     },
     "output_type": "display_data"
    }
   ],
   "source": [
    "Y_Europe_pred = linear.predict(X_Europe)\n",
    "plt.plot(X_Europe, Y_Europe_pred, color = \"red\")\n",
    "plt.scatter(X_Europe, np.log(Y_Europe))\n",
    "plt.show()"
   ]
  },
  {
   "cell_type": "code",
   "execution_count": 161,
   "id": "a522af73",
   "metadata": {},
   "outputs": [
    {
     "name": "stdout",
     "output_type": "stream",
     "text": [
      "r = 0.9562152421205669\n",
      "m = [[0.24130109]]\n",
      "b = [-478.95593947]\n"
     ]
    }
   ],
   "source": [
    "r_squared = linear.score(X_Europe, np.log(Y_Europe))\n",
    "print(\"r = \" + str(r_squared))\n",
    "print(\"m = \" + str(linear.coef_))\n",
    "print(\"b = \" + str(linear.intercept_))"
   ]
  },
  {
   "cell_type": "code",
   "execution_count": 175,
   "id": "30a391d4",
   "metadata": {},
   "outputs": [
    {
     "name": "stdout",
     "output_type": "stream",
     "text": [
      "    Year  China (1000s)\n",
      "12  2012        34500.0\n",
      "13  2013        36000.0\n",
      "14  2014        34400.0\n",
      "15  2015        31800.0\n",
      "16  2016        31400.0\n",
      "17  2017        30500.0\n",
      "18  2018        32200.0\n",
      "19  2019        36800.0\n",
      "20  2020        47600.0\n",
      "21  2021        41000.0\n"
     ]
    }
   ],
   "source": [
    "dfChina = df1[[\"Year\", \"China (1000s)\"]].dropna()\n",
    "X_China = dfChina[['Year']]\n",
    "y_China = dfChina[['China (1000s)']]\n",
    "\n",
    "print(dfChina)"
   ]
  },
  {
   "cell_type": "code",
   "execution_count": 174,
   "id": "52400c6b",
   "metadata": {},
   "outputs": [
    {
     "data": {
      "image/png": "[encoded data removed]",
      "text/plain": [
       "<Figure size 432x288 with 1 Axes>"
      ]
     },
     "metadata": {
      "needs_background": "light"
     },
     "output_type": "display_data"
    }
   ],
   "source": [
    "linear.fit(X_China, log(y_China))\n",
    "y_China_pred = linear.predict(X_China)\n",
    "plt.plot(X_China, y_China_pred, color = \"red\")\n",
    "plt.scatter(X_China, np.log(y_China))\n",
    "plt.show()"
   ]
  },
  {
   "cell_type": "code",
   "execution_count": null,
   "id": "f287f6a6",
   "metadata": {},
   "outputs": [],
   "source": []
  }
 ],
 "metadata": {
  "kernelspec": {
   "display_name": "Python 3",
   "language": "python",
   "name": "python3"
  },
  "language_info": {
   "codemirror_mode": {
    "name": "ipython",
    "version": 3
   },
   "file_extension": ".py",
   "mimetype": "text/x-python",
   "name": "python",
   "nbconvert_exporter": "python",
   "pygments_lexer": "ipython3",
   "version": "3.8.8"
  }
 },
 "nbformat": 4,
 "nbformat_minor": 5
}
